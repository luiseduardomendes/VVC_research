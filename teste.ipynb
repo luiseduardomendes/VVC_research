{
 "cells": [
  {
   "cell_type": "code",
   "execution_count": 32,
   "metadata": {},
   "outputs": [],
   "source": [
    "import os\n",
    "import re\n",
    "\n",
    "def change_expression_in_file(file, expression, change_to):\n",
    "    temp_file_name = \".swp_\" + file\n",
    "    while os.path.isfile(temp_file_name):\n",
    "        temp_file_name = temp_file_name + '_'\n",
    "    \n",
    "    t = open (temp_file_name, 'w') \n",
    "    f = open(file, 'r')\n",
    "    \n",
    "    line = f.read()\n",
    "    if len(re.findall(expression, line)) > 0:\n",
    "        matches = re.finditer(expression, line, re.M)\n",
    "        for match in matches:\n",
    "            t.write(f'{line[:match.start()]}{change_to}{line[match.end():]}')\n",
    "    else:\n",
    "        t.write(line)                \n",
    "    f.close()\n",
    "    t.close()\n",
    "\n",
    "    os.remove(file)\n",
    "    os.rename(temp_file_name, file)\n",
    "\n",
    "\n",
    "change_expression_in_file('teste.txt', 'Mundo', 'World')"
   ]
  }
 ],
 "metadata": {
  "kernelspec": {
   "display_name": "base",
   "language": "python",
   "name": "python3"
  },
  "language_info": {
   "codemirror_mode": {
    "name": "ipython",
    "version": 3
   },
   "file_extension": ".py",
   "mimetype": "text/x-python",
   "name": "python",
   "nbconvert_exporter": "python",
   "pygments_lexer": "ipython3",
   "version": "3.7.0"
  },
  "orig_nbformat": 4,
  "vscode": {
   "interpreter": {
    "hash": "10930eeca2b3f33cc5ac64346a665b49c87b24588433639a1366a5716c1b430c"
   }
  }
 },
 "nbformat": 4,
 "nbformat_minor": 2
}
