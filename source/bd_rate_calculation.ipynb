{
 "cells": [
  {
   "cell_type": "code",
   "execution_count": 2,
   "metadata": {},
   "outputs": [],
   "source": [
    "def plot(a1, a2, b1, b2):\n",
    "    ax, fig = plt.subplots()\n",
    "\n",
    "    ax = plt.plot(a1, a2, '-')\n",
    "    ax = plt.plot(b1, b2, '--')\n",
    "    ax = plt.scatter(a1, a2)\n",
    "    ax = plt.scatter(b1, b2)\n",
    "\n",
    "    fig.plot()"
   ]
  },
  {
   "cell_type": "code",
   "execution_count": 3,
   "metadata": {},
   "outputs": [],
   "source": [
    "from scipy import integrate, interpolate\n",
    "import math\n",
    "\n",
    "columns = ('bitrate', 'Y_PSNR', 'U_PSNR', 'V_PSNR', 'YUV_PSNR')\n",
    "\n",
    "def bdbr(HEVC,VVC,  yuv_sel = 1):\n",
    "\tHEVC = np.asarray(HEVC)\n",
    "\tVVC = np.asarray(VVC)\n",
    "\t\n",
    "\tHEVC = HEVC[HEVC[:,0].argsort()]\n",
    "\tVVC = VVC[VVC[:,0].argsort()]\n",
    "\n",
    "\tplot(pd.Series(np.log10(HEVC[:,0]), name='log_bitrate'), pd.Series(HEVC[:,yuv_sel], name='YUV_PSNR'), pd.Series(np.log10(VVC[:,0]), name='log_bitrate'), pd.Series(VVC[:,yuv_sel], name='YUV_PSNR'))\n",
    "\tplot(pd.Series(HEVC[:,0], name='log_bitrate')/1024, pd.Series(HEVC[:,yuv_sel], name='YUV_PSNR'), pd.Series(VVC[:,0], name='log_bitrate')/1024, pd.Series(VVC[:,yuv_sel], name='YUV_PSNR'))\n",
    "\t\n",
    "\n",
    "\txa, ya = np.log10(HEVC[:,0]), HEVC[:,yuv_sel]\n",
    "\txb, yb = np.log10(VVC[:,0]), VVC[:,yuv_sel]\n",
    "\t\n",
    "\tmax_i = len(ya)\n",
    "\ti = 1\n",
    "\twhile(i < max_i):\n",
    "\t\tif ya[i] < ya[i-1] or yb[i] <  yb[i-1]:\n",
    "\t\t\tya = np.delete( ya,i)\n",
    "\t\t\tyb = np.delete( yb,i)\n",
    "\t\t\txa = np.delete( xa,i)\n",
    "\t\t\txb = np.delete( xb,i)\n",
    "\t\t\tmax_i = len(ya)\n",
    "\t\telse:\n",
    "\t\t\ti += 1\n",
    "\n",
    "\tx_interp = [max(min(xa), min(xb)), min(max(xa),max(xb))]\n",
    "\ty_interp = [max(min(ya), min(yb)), min(max(ya),max(yb))]\n",
    "\n",
    "\tinterp_br_a = interpolate.PchipInterpolator(ya,xa)\n",
    "\tinterp_br_b = interpolate.PchipInterpolator(yb,xb)\n",
    "\n",
    "\tbdbr_a = integrate.quad(interp_br_a, y_interp[0], y_interp[1])[0]\n",
    "\tbdbr_b = integrate.quad(interp_br_b, y_interp[0], y_interp[1])[0]\n",
    "\n",
    "\tbdbr = (bdbr_b - bdbr_a) / (y_interp[1] - y_interp[0])\n",
    "\tbdbr = (math.pow(10., bdbr)-1)*100\n",
    "\n",
    "\treturn bdbr"
   ]
  },
  {
   "cell_type": "code",
   "execution_count": 4,
   "metadata": {},
   "outputs": [],
   "source": [
    "import numpy as np\n",
    "import pandas as pd\n",
    "import matplotlib.pyplot as plt\n",
    "import vvc_log as vl\n",
    "import os\n",
    "\n",
    "satds = [dir for dir in os.listdir('../outcsv') if os.path.isdir(os.path.join('../outcsv', dir))]\n",
    "videos = [video for video in os.listdir('../out_preciso/Preciso/') if os.path.isdir(os.path.join('../out_preciso/Preciso', video))]\n",
    "cfgs1 = ['intra', 'lowdelay', 'randomaccess']\n",
    "cfgs2 = ['intra', 'low_delay', 'random_access']\n",
    "\n",
    "videos.remove('RaceHorsesC')\n",
    "videos.remove('FoodMarket')\n"
   ]
  },
  {
   "cell_type": "code",
   "execution_count": 8,
   "metadata": {},
   "outputs": [
    {
     "name": "stderr",
     "output_type": "stream",
     "text": [
      "/home/devluis/Documentos/GitHub/VVC_research/source/vvc_log.py:173: SettingWithCopyWarning: \n",
      "A value is trying to be set on a copy of a slice from a DataFrame\n",
      "\n",
      "See the caveats in the documentation: https://pandas.pydata.org/pandas-docs/stable/user_guide/indexing.html#returning-a-view-versus-a-copy\n",
      "  self.df['bd_rate'][ind] = bdbr\n"
     ]
    },
    {
     "name": "stdout",
     "output_type": "stream",
     "text": [
      "                satd            video           cfg   bd_rate\n",
      "0    4x4-1-8x8-2.cpp       RaceHorses         intra  0.187221\n",
      "1    4x4-1-8x8-2.cpp       RaceHorses      lowdelay  1.111627\n",
      "2    4x4-1-8x8-2.cpp       RaceHorses  randomaccess  0.557779\n",
      "3    4x4-1-8x8-2.cpp           BQMall         intra  0.085759\n",
      "4    4x4-1-8x8-2.cpp           BQMall      lowdelay  0.582619\n",
      "..               ...              ...           ...       ...\n",
      "146            8x8-2   BasketballPass      lowdelay  0.327009\n",
      "147            8x8-2   BasketballPass  randomaccess -0.213552\n",
      "148            8x8-2  BasketballDrive         intra  0.112892\n",
      "149            8x8-2  BasketballDrive      lowdelay  0.509534\n",
      "150            8x8-2  BasketballDrive  randomaccess  0.094322\n",
      "\n",
      "[151 rows x 4 columns]\n"
     ]
    }
   ],
   "source": [
    "\n",
    "files = []\n",
    "for satd in satds:\n",
    "    for video in videos:\n",
    "        for i in range(len(cfgs1)):\n",
    "            file1 = f'../out_preciso/Preciso/{video}/{cfgs2[i]}/Preciso{cfgs2[i]}{video}.csv'\n",
    "            file2 = f'../outcsv/{satd}/csv/{cfgs1[i]}/{video}.csv'\n",
    "            if not os.path.isfile(file1) or not os.path.isfile(file2):\n",
    "                continue\n",
    "            else:\n",
    "                files.append((file2, file1))\n",
    "\n",
    "df = {\n",
    "    'satd': [],\n",
    "    'video': [],\n",
    "    'cfg': [],\n",
    "    'bd_rate': []\n",
    "}\n",
    "\n",
    "for file in files:\n",
    "    try:\n",
    "        temp = vl.LogDF(file[0], file[1])\n",
    "        df['satd'].append(temp.df['satd'][0])\n",
    "        df['video'].append(temp.df['fileName'][0])\n",
    "        df['cfg'].append(temp.df['encoder'][0])\n",
    "        df['bd_rate'].append(temp.df['bd_rate'][0])\n",
    "    except:\n",
    "        continue\n",
    "\n",
    "\n",
    "df = pd.DataFrame(df)    \n",
    "print(df)\n",
    "df.to_csv('bd_rate_data.csv', index = False)\n",
    "df.to_excel('bd_rate_data.xlsx', index = False)\n",
    "    \n",
    "    \n",
    "    \n",
    "\n",
    "\n",
    "\n",
    "\n",
    "\n"
   ]
  }
 ],
 "metadata": {
  "kernelspec": {
   "display_name": "Python 3.9.12 ('base')",
   "language": "python",
   "name": "python3"
  },
  "language_info": {
   "codemirror_mode": {
    "name": "ipython",
    "version": 3
   },
   "file_extension": ".py",
   "mimetype": "text/x-python",
   "name": "python",
   "nbconvert_exporter": "python",
   "pygments_lexer": "ipython3",
   "version": "3.9.7"
  },
  "orig_nbformat": 4,
  "vscode": {
   "interpreter": {
    "hash": "02c1b4ef390a5efa9184e7809e1c04e02d7699a783b26d72e51ddd5cfed96e3f"
   }
  }
 },
 "nbformat": 4,
 "nbformat_minor": 2
}
