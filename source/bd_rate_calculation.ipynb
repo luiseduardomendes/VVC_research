{
 "cells": [
  {
   "cell_type": "code",
   "execution_count": 32,
   "metadata": {},
   "outputs": [
    {
     "data": {
      "text/plain": [
       "0.15416041134723724"
      ]
     },
     "execution_count": 32,
     "metadata": {},
     "output_type": "execute_result"
    }
   ],
   "source": [
    "import numpy as np\n",
    "import pandas as pd\n",
    "\n",
    "df_cmp = pd.read_csv('../outcsv/4x4-1-8x8-1.cpp/csv/intra/BasketballDrive.csv')\n",
    "df_ref = pd.read_csv('../out_preciso/Preciso/BasketballDrive/intra/PrecisointraBasketballDrive.csv')\n",
    "\n",
    "\n",
    "np.asarray(df_cmp.iloc[:,:5])\n",
    "\n",
    "bdb = bdbr(np.asarray(df_ref.iloc[:,:5]), np.asarray(df_cmp.iloc[:,:5]))\n",
    "bdb\n"
   ]
  },
  {
   "cell_type": "code",
   "execution_count": 29,
   "metadata": {},
   "outputs": [],
   "source": [
    "from scipy import integrate, interpolate\n",
    "import math\n",
    "\n",
    "def bdbr(HEVC,VVC,  yuv_sel = 1):\n",
    "\tHEVC = np.asarray(HEVC)\n",
    "\tVVC = np.asarray(VVC)\n",
    "\t\n",
    "\tHEVC = HEVC[HEVC[:,0].argsort()]\n",
    "\tVVC = VVC[VVC[:,0].argsort()]\n",
    "\n",
    "\txa, ya = np.log10(HEVC[:,0]), HEVC[:,yuv_sel]\n",
    "\txb, yb = np.log10(VVC[:,0]), VVC[:,yuv_sel]\n",
    "\t\n",
    "\tmax_i = len(ya)\n",
    "\ti = 1\n",
    "\twhile(i < max_i):\n",
    "\t\tif ya[i] < ya[i-1] or yb[i] <  yb[i-1]:\n",
    "\t\t\tya = np.delete( ya,i)\n",
    "\t\t\tyb = np.delete( yb,i)\n",
    "\t\t\txa = np.delete( xa,i)\n",
    "\t\t\txb = np.delete( xb,i)\n",
    "\t\t\tmax_i = len(ya)\n",
    "\t\telse:\n",
    "\t\t\ti += 1\n",
    "\n",
    "\tx_interp = [max(min(xa), min(xb)), min(max(xa),max(xb))]\n",
    "\ty_interp = [max(min(ya), min(yb)), min(max(ya),max(yb))]\n",
    "\n",
    "\tinterp_br_a = interpolate.PchipInterpolator(ya,xa)\n",
    "\tinterp_br_b = interpolate.PchipInterpolator(yb,xb)\n",
    "\n",
    "\tbdbr_a = integrate.quad(interp_br_a, y_interp[0], y_interp[1])[0]\n",
    "\tbdbr_b = integrate.quad(interp_br_b, y_interp[0], y_interp[1])[0]\n",
    "\n",
    "\tbdbr = (bdbr_b - bdbr_a) / (y_interp[1] - y_interp[0])\n",
    "\tbdbr = (math.pow(10., bdbr)-1)*100\n",
    "\n",
    "\treturn bdbr"
   ]
  }
 ],
 "metadata": {
  "kernelspec": {
   "display_name": "Python 3.9.12 ('base')",
   "language": "python",
   "name": "python3"
  },
  "language_info": {
   "codemirror_mode": {
    "name": "ipython",
    "version": 3
   },
   "file_extension": ".py",
   "mimetype": "text/x-python",
   "name": "python",
   "nbconvert_exporter": "python",
   "pygments_lexer": "ipython3",
   "version": "3.9.12"
  },
  "orig_nbformat": 4,
  "vscode": {
   "interpreter": {
    "hash": "02c1b4ef390a5efa9184e7809e1c04e02d7699a783b26d72e51ddd5cfed96e3f"
   }
  }
 },
 "nbformat": 4,
 "nbformat_minor": 2
}
