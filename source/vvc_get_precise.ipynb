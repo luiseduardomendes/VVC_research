{
 "cells": [
  {
   "cell_type": "code",
   "execution_count": 3,
   "metadata": {},
   "outputs": [
    {
     "ename": "FileNotFoundError",
     "evalue": "[WinError 3] The system cannot find the path specified: '../Preciso/AI'",
     "output_type": "error",
     "traceback": [
      "\u001b[1;31m---------------------------------------------------------------------------\u001b[0m",
      "\u001b[1;31mFileNotFoundError\u001b[0m                         Traceback (most recent call last)",
      "\u001b[1;32mc:\\Users\\dudup\\OneDrive\\Área de Trabalho\\VVC\\VVC_research\\source\\vvc_log_2.ipynb Cell 1\u001b[0m in \u001b[0;36m<cell line: 14>\u001b[1;34m()\u001b[0m\n\u001b[0;32m     <a href='vscode-notebook-cell:/c%3A/Users/dudup/OneDrive/%C3%81rea%20de%20Trabalho/VVC/VVC_research/source/vvc_log_2.ipynb#W0sZmlsZQ%3D%3D?line=12'>13</a>\u001b[0m dfs \u001b[39m=\u001b[39m []\n\u001b[0;32m     <a href='vscode-notebook-cell:/c%3A/Users/dudup/OneDrive/%C3%81rea%20de%20Trabalho/VVC/VVC_research/source/vvc_log_2.ipynb#W0sZmlsZQ%3D%3D?line=13'>14</a>\u001b[0m \u001b[39mfor\u001b[39;00m cfg \u001b[39min\u001b[39;00m cfg_map\u001b[39m.\u001b[39mkeys():\n\u001b[1;32m---> <a href='vscode-notebook-cell:/c%3A/Users/dudup/OneDrive/%C3%81rea%20de%20Trabalho/VVC/VVC_research/source/vvc_log_2.ipynb#W0sZmlsZQ%3D%3D?line=14'>15</a>\u001b[0m     videos \u001b[39m=\u001b[39m [os\u001b[39m.\u001b[39mpath\u001b[39m.\u001b[39mjoin(\u001b[39m'\u001b[39m\u001b[39m../Preciso/\u001b[39m\u001b[39m'\u001b[39m, cfg, f) \u001b[39mfor\u001b[39;00m f \u001b[39min\u001b[39;00m os\u001b[39m.\u001b[39;49mlistdir(os\u001b[39m.\u001b[39;49mpath\u001b[39m.\u001b[39;49mjoin(\u001b[39m'\u001b[39;49m\u001b[39m../Preciso/\u001b[39;49m\u001b[39m'\u001b[39;49m, cfg))]\n\u001b[0;32m     <a href='vscode-notebook-cell:/c%3A/Users/dudup/OneDrive/%C3%81rea%20de%20Trabalho/VVC/VVC_research/source/vvc_log_2.ipynb#W0sZmlsZQ%3D%3D?line=16'>17</a>\u001b[0m     \u001b[39mfor\u001b[39;00m video \u001b[39min\u001b[39;00m videos:\n\u001b[0;32m     <a href='vscode-notebook-cell:/c%3A/Users/dudup/OneDrive/%C3%81rea%20de%20Trabalho/VVC/VVC_research/source/vvc_log_2.ipynb#W0sZmlsZQ%3D%3D?line=17'>18</a>\u001b[0m         satd, config, name, qp \u001b[39m=\u001b[39m ptrn\u001b[39m.\u001b[39mfindall(video)[\u001b[39m0\u001b[39m]\n",
      "\u001b[1;31mFileNotFoundError\u001b[0m: [WinError 3] The system cannot find the path specified: '../Preciso/AI'"
     ]
    }
   ],
   "source": [
    "import re\n",
    "import vvc_log as vl\n",
    "import os\n",
    "\n",
    "cfg_map = {\n",
    "    'AI': 'intra',\n",
    "    'LB': 'low_delay',\n",
    "    'RA': 'random_access'\n",
    "}\n",
    "\n",
    "ptrn = re.compile(r'\\.\\.\\/(.+)\\/(.{2})\\\\(.+)_QP(\\d{2})\\.txt')\n",
    "\n",
    "dfs = []\n",
    "for cfg in cfg_map.keys():\n",
    "    videos = [os.path.join('../Preciso/', cfg, f) for f in os.listdir(os.path.join('../Preciso/', cfg))]\n",
    "\n",
    "    for video in videos:\n",
    "        satd, config, name, qp = ptrn.findall(video)[0]\n",
    "        dfs.append(vl.read_log(video, name, qp, cfg_map[config], satd))\n",
    "\n",
    "dfs = vl.split(dfs)\n",
    "\n",
    "main_folder = '../out_preciso/'\n",
    "\n",
    "for key in dfs.keys():\n",
    "    #dfs[key].bdbr()\n",
    "    name = dfs[key].df['fileName'][0]\n",
    "    config = dfs[key].df['cfg'][0]\n",
    "    satd = dfs[key].df['satd'][0]\n",
    "\n",
    "    if not os.path.isdir(os.path.join(main_folder)):\n",
    "        os.mkdir(os.path.join(main_folder, satd))\n",
    "    if not os.path.isdir(os.path.join(main_folder)):\n",
    "        os.mkdir(os.path.join(main_folder, satd))\n",
    "    if not os.path.isdir(os.path.join(main_folder, satd, name)):\n",
    "        os.mkdir(os.path.join(main_folder, satd, name))\n",
    "    if not os.path.isdir(os.path.join(main_folder, satd, name, config)):\n",
    "        os.mkdir(os.path.join(main_folder, satd, name, config))\n",
    "    \n",
    "    dfs[key].to_excel(None, os.path.join(main_folder, satd, name, config))\n",
    "    dfs[key].to_csv(None, os.path.join(main_folder, satd, name, config))\n",
    "\n"
   ]
  }
 ],
 "metadata": {
  "kernelspec": {
   "display_name": "Python 3.9.12 ('base')",
   "language": "python",
   "name": "python3"
  },
  "language_info": {
   "codemirror_mode": {
    "name": "ipython",
    "version": 3
   },
   "file_extension": ".py",
   "mimetype": "text/x-python",
   "name": "python",
   "nbconvert_exporter": "python",
   "pygments_lexer": "ipython3",
   "version": "3.9.12"
  },
  "orig_nbformat": 4,
  "vscode": {
   "interpreter": {
    "hash": "02c1b4ef390a5efa9184e7809e1c04e02d7699a783b26d72e51ddd5cfed96e3f"
   }
  }
 },
 "nbformat": 4,
 "nbformat_minor": 2
}
