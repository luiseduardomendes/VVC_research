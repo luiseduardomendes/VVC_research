{
 "cells": [
  {
   "cell_type": "code",
   "execution_count": 1,
   "metadata": {},
   "outputs": [],
   "source": [
    "from vvc_exec_refact import *\n",
    "exec = vvc_executer(\n",
    "    video='BasketballPass', \n",
    "    version='Precise', \n",
    "    video_cfg='C:\\\\Users\\\\dudup\\\\OneDrive\\\\Área de Trabalho\\\\New folder\\\\VVC\\\\VVC_research\\\\database\\\\cfg-files\\\\BasketballPass.cfg', \n",
    "    vtm_path='C:\\\\Users\\\\dudup\\\\OneDrive\\\\Área de Trabalho\\\\New folder\\\\VVC\\\\VVCSoftware_VTM',\n",
    ")\n",
    "exec.set_output_path('out09_03_23')\n",
    "exec.enable_display()\n"
   ]
  },
  {
   "cell_type": "code",
   "execution_count": 3,
   "metadata": {},
   "outputs": [
    {
     "name": "stdout",
     "output_type": "stream",
     "text": [
      "/\"C:\\Users\\dudup\\OneDrive\\Área de Trabalho\\New folder\\VVC\\VVCSoftware_VTM\\bin\\EncoderAppStatic\" -c \"C:\\Users\\dudup\\OneDrive\\Área de Trabalho\\New folder\\VVC\\VVCSoftware_VTM\\cfg\\encoder_intra_vtm.cfg\" -c \"C:\\Users\\dudup\\OneDrive\\Área de Trabalho\\New folder\\VVC\\VVC_research\\database\\cfg-files\\BasketballPass.cfg\" -b \"out09_03_23\\videos_bin\" -q 22 -f 32 -ts 1 --SIMD=SCALAR \n",
      "\n",
      "Encoding: ........... BasketballPass\n",
      "\n",
      "Video identifier: ... BasketballPass_qp22_AI_Precise\n",
      "Video config: ....... C:\\Users\\dudup\\OneDrive\\Área de Trabalho\\New folder\\VVC\\VVC_research\\database\\cfg-files\\BasketballPass.cfg\n",
      "Encoder: ............ AI\n",
      "QP: ................. 22\n",
      "VTM version used: ... Precise\n",
      "frames encoded: ..... 32\n",
      "\n"
     ]
    }
   ],
   "source": [
    "exec.set_cfg('AI')\n",
    "exec.set_qp(22)\n",
    "exec.run_exec()"
   ]
  },
  {
   "cell_type": "code",
   "execution_count": 5,
   "metadata": {},
   "outputs": [
    {
     "name": "stdout",
     "output_type": "stream",
     "text": [
      "/\"C:\\Users\\dudup\\OneDrive\\Área de Trabalho\\New folder\\VVC\\VVCSoftware_VTM\\bin\\EncoderAppStatic\" -c \"C:\\Users\\dudup\\OneDrive\\Área de Trabalho\\New folder\\VVC\\VVCSoftware_VTM\\cfg\\encoder_intra_vtm.cfg\" -c \"C:\\Users\\dudup\\OneDrive\\Área de Trabalho\\New folder\\VVC\\VVC_research\\database\\cfg-files\\BasketballPass.cfg\" -b \"out09_03_23\\videos_bin\" -q 27 -f 32 -ts 1 --SIMD=SCALAR \n",
      "\n",
      "Encoding: ........... BasketballPass\n",
      "\n",
      "Video identifier: ... BasketballPass_qp27_AI_Precise\n",
      "Video config: ....... C:\\Users\\dudup\\OneDrive\\Área de Trabalho\\New folder\\VVC\\VVC_research\\database\\cfg-files\\BasketballPass.cfg\n",
      "Encoder: ............ AI\n",
      "QP: ................. 27\n",
      "VTM version used: ... Precise\n",
      "frames encoded: ..... 32\n",
      "\n"
     ]
    }
   ],
   "source": [
    "exec.set_qp(27)\n",
    "exec.run_exec()"
   ]
  },
  {
   "cell_type": "code",
   "execution_count": 6,
   "metadata": {},
   "outputs": [
    {
     "name": "stdout",
     "output_type": "stream",
     "text": [
      "/\"C:\\Users\\dudup\\OneDrive\\Área de Trabalho\\New folder\\VVC\\VVCSoftware_VTM\\bin\\EncoderAppStatic\" -c \"C:\\Users\\dudup\\OneDrive\\Área de Trabalho\\New folder\\VVC\\VVCSoftware_VTM\\cfg\\encoder_intra_vtm.cfg\" -c \"C:\\Users\\dudup\\OneDrive\\Área de Trabalho\\New folder\\VVC\\VVC_research\\database\\cfg-files\\BasketballPass.cfg\" -b \"out09_03_23\\videos_bin\" -q 32 -f 32 -ts 1 --SIMD=SCALAR \n",
      "\n",
      "Encoding: ........... BasketballPass\n",
      "\n",
      "Video identifier: ... BasketballPass_qp32_AI_Precise\n",
      "Video config: ....... C:\\Users\\dudup\\OneDrive\\Área de Trabalho\\New folder\\VVC\\VVC_research\\database\\cfg-files\\BasketballPass.cfg\n",
      "Encoder: ............ AI\n",
      "QP: ................. 32\n",
      "VTM version used: ... Precise\n",
      "frames encoded: ..... 32\n",
      "\n"
     ]
    }
   ],
   "source": [
    "exec.set_qp(32)\n",
    "exec.run_exec()"
   ]
  },
  {
   "cell_type": "code",
   "execution_count": 7,
   "metadata": {},
   "outputs": [
    {
     "name": "stdout",
     "output_type": "stream",
     "text": [
      "/\"C:\\Users\\dudup\\OneDrive\\Área de Trabalho\\New folder\\VVC\\VVCSoftware_VTM\\bin\\EncoderAppStatic\" -c \"C:\\Users\\dudup\\OneDrive\\Área de Trabalho\\New folder\\VVC\\VVCSoftware_VTM\\cfg\\encoder_intra_vtm.cfg\" -c \"C:\\Users\\dudup\\OneDrive\\Área de Trabalho\\New folder\\VVC\\VVC_research\\database\\cfg-files\\BasketballPass.cfg\" -b \"out09_03_23\\videos_bin\" -q 37 -f 32 -ts 1 --SIMD=SCALAR \n",
      "\n",
      "Encoding: ........... BasketballPass\n",
      "\n",
      "Video identifier: ... BasketballPass_qp37_AI_Precise\n",
      "Video config: ....... C:\\Users\\dudup\\OneDrive\\Área de Trabalho\\New folder\\VVC\\VVC_research\\database\\cfg-files\\BasketballPass.cfg\n",
      "Encoder: ............ AI\n",
      "QP: ................. 37\n",
      "VTM version used: ... Precise\n",
      "frames encoded: ..... 32\n",
      "\n"
     ]
    }
   ],
   "source": [
    "exec.set_qp(37)\n",
    "exec.run_exec()"
   ]
  },
  {
   "cell_type": "code",
   "execution_count": 9,
   "metadata": {},
   "outputs": [
    {
     "name": "stdout",
     "output_type": "stream",
     "text": [
      "/\"C:\\Users\\dudup\\OneDrive\\Área de Trabalho\\New folder\\VVC\\VVCSoftware_VTM\\bin\\EncoderAppStatic\" -c \"C:\\Users\\dudup\\OneDrive\\Área de Trabalho\\New folder\\VVC\\VVCSoftware_VTM\\cfg\\encoder_randomaccess_vtm.cfg\" -c \"C:\\Users\\dudup\\OneDrive\\Área de Trabalho\\New folder\\VVC\\VVC_research\\database\\cfg-files\\BasketballPass.cfg\" -b \"out09_03_23\\videos_bin\" -q 22 -f 32 -ts 1 --SIMD=SCALAR \n",
      "\n",
      "Encoding: ........... BasketballPass\n",
      "\n",
      "Video identifier: ... BasketballPass_qp22_RA_Precise\n",
      "Video config: ....... C:\\Users\\dudup\\OneDrive\\Área de Trabalho\\New folder\\VVC\\VVC_research\\database\\cfg-files\\BasketballPass.cfg\n",
      "Encoder: ............ RA\n",
      "QP: ................. 22\n",
      "VTM version used: ... Precise\n",
      "frames encoded: ..... 32\n",
      "\n"
     ]
    }
   ],
   "source": [
    "exec.set_qp(22)\n",
    "exec.set_cfg('RA')\n",
    "exec.run_exec()"
   ]
  },
  {
   "cell_type": "code",
   "execution_count": 11,
   "metadata": {},
   "outputs": [
    {
     "name": "stdout",
     "output_type": "stream",
     "text": [
      "/\"C:\\Users\\dudup\\OneDrive\\Área de Trabalho\\New folder\\VVC\\VVCSoftware_VTM\\bin\\EncoderAppStatic\" -c \"C:\\Users\\dudup\\OneDrive\\Área de Trabalho\\New folder\\VVC\\VVCSoftware_VTM\\cfg\\encoder_randomaccess_vtm.cfg\" -c \"C:\\Users\\dudup\\OneDrive\\Área de Trabalho\\New folder\\VVC\\VVC_research\\database\\cfg-files\\BasketballPass.cfg\" -b \"out09_03_23\\videos_bin\" -q 27 -f 32 -ts 1 --SIMD=SCALAR \n",
      "\n",
      "Encoding: ........... BasketballPass\n",
      "\n",
      "Video identifier: ... BasketballPass_qp27_RA_Precise\n",
      "Video config: ....... C:\\Users\\dudup\\OneDrive\\Área de Trabalho\\New folder\\VVC\\VVC_research\\database\\cfg-files\\BasketballPass.cfg\n",
      "Encoder: ............ RA\n",
      "QP: ................. 27\n",
      "VTM version used: ... Precise\n",
      "frames encoded: ..... 32\n",
      "\n"
     ]
    }
   ],
   "source": [
    "exec.set_qp(27)\n",
    "exec.run_exec()"
   ]
  },
  {
   "cell_type": "code",
   "execution_count": 13,
   "metadata": {},
   "outputs": [
    {
     "name": "stdout",
     "output_type": "stream",
     "text": [
      "/\"C:\\Users\\dudup\\OneDrive\\Área de Trabalho\\New folder\\VVC\\VVCSoftware_VTM\\bin\\EncoderAppStatic\" -c \"C:\\Users\\dudup\\OneDrive\\Área de Trabalho\\New folder\\VVC\\VVCSoftware_VTM\\cfg\\encoder_randomaccess_vtm.cfg\" -c \"C:\\Users\\dudup\\OneDrive\\Área de Trabalho\\New folder\\VVC\\VVC_research\\database\\cfg-files\\BasketballPass.cfg\" -b \"out09_03_23\\videos_bin\" -q 32 -f 32 -ts 1 --SIMD=SCALAR \n",
      "\n",
      "Encoding: ........... BasketballPass\n",
      "\n",
      "Video identifier: ... BasketballPass_qp32_RA_Precise\n",
      "Video config: ....... C:\\Users\\dudup\\OneDrive\\Área de Trabalho\\New folder\\VVC\\VVC_research\\database\\cfg-files\\BasketballPass.cfg\n",
      "Encoder: ............ RA\n",
      "QP: ................. 32\n",
      "VTM version used: ... Precise\n",
      "frames encoded: ..... 32\n",
      "\n"
     ]
    }
   ],
   "source": [
    "exec.set_qp(32)\n",
    "exec.run_exec()"
   ]
  },
  {
   "cell_type": "code",
   "execution_count": 14,
   "metadata": {},
   "outputs": [
    {
     "name": "stdout",
     "output_type": "stream",
     "text": [
      "/\"C:\\Users\\dudup\\OneDrive\\Área de Trabalho\\New folder\\VVC\\VVCSoftware_VTM\\bin\\EncoderAppStatic\" -c \"C:\\Users\\dudup\\OneDrive\\Área de Trabalho\\New folder\\VVC\\VVCSoftware_VTM\\cfg\\encoder_randomaccess_vtm.cfg\" -c \"C:\\Users\\dudup\\OneDrive\\Área de Trabalho\\New folder\\VVC\\VVC_research\\database\\cfg-files\\BasketballPass.cfg\" -b \"out09_03_23\\videos_bin\" -q 37 -f 32 -ts 1 --SIMD=SCALAR \n",
      "\n",
      "Encoding: ........... BasketballPass\n",
      "\n",
      "Video identifier: ... BasketballPass_qp37_RA_Precise\n",
      "Video config: ....... C:\\Users\\dudup\\OneDrive\\Área de Trabalho\\New folder\\VVC\\VVC_research\\database\\cfg-files\\BasketballPass.cfg\n",
      "Encoder: ............ RA\n",
      "QP: ................. 37\n",
      "VTM version used: ... Precise\n",
      "frames encoded: ..... 32\n",
      "\n"
     ]
    }
   ],
   "source": [
    "exec.set_qp(37)\n",
    "exec.run_exec()"
   ]
  }
 ],
 "metadata": {
  "kernelspec": {
   "display_name": "Python 3",
   "language": "python",
   "name": "python3"
  },
  "language_info": {
   "codemirror_mode": {
    "name": "ipython",
    "version": 3
   },
   "file_extension": ".py",
   "mimetype": "text/x-python",
   "name": "python",
   "nbconvert_exporter": "python",
   "pygments_lexer": "ipython3",
   "version": "3.9.12"
  },
  "orig_nbformat": 4
 },
 "nbformat": 4,
 "nbformat_minor": 2
}
