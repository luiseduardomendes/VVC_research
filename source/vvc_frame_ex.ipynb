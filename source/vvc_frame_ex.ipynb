{
 "cells": [
  {
   "cell_type": "code",
   "execution_count": 6,
   "metadata": {},
   "outputs": [],
   "source": [
    "import vvc_frame_log as vf\n",
    "import os\n",
    "import pandas as pd\n",
    "\n",
    "qps = (22, 27, 32, 37)\n",
    "satds = os.listdir('../out/out/')\n",
    "files = os.listdir('../out/out/4x4-1-RdCost8x8-4/')\n",
    "cfgs = ('intra', 'lowdelay', 'randomaccess')\n",
    "cfgs_precise = {\n",
    "    'intra': 'AI',\n",
    "    'lowdelay': 'LB',\n",
    "    'randomaccess': 'RA'\n",
    "}\n",
    "\n",
    "dfs = []\n",
    "for satd in satds:\n",
    "    for file in files:    \n",
    "        for cfg in cfgs:\n",
    "            for qp in qps:\n",
    "                path_log = f'../out/out/{satd}/{file}/{cfg}/exec_log/log_{file}_qp{qp}_{cfg}_{satd}_exec.gplog'      \n",
    "                path_prec = f'../Preciso/{cfgs_precise[cfg]}/{file}_QP{qp}.txt'\n",
    "\n",
    "                \n",
    "                if os.path.isfile(path_log) and os.path.isfile(path_prec):\n",
    "                    dfs.extend(vf.read_log(path_log, file, qp, cfg, satd, path_prec, None, 32))\n",
    "\n",
    "dfs = vf.split(dfs)\n",
    "\n",
    "__files = []\n",
    "__satds = []\n",
    "__frame = []\n",
    "__cfgs = []\n",
    "__bdrate = []\n",
    "for df in dfs.keys():\n",
    "    temp = dfs[df].getDataFrame()\n",
    "    __files.append(temp['fileName'][0])\n",
    "    __satds.append(temp['satd'][0])\n",
    "    __cfgs.append(temp['cfg'][0])\n",
    "    __frame.append(temp['frame'][0])\n",
    "    __bdrate.append(temp['bd_rate'][0])\n",
    "\n",
    "out = pd.Series(__bdrate, index = [__satds, __files, __cfgs, __frame], name='BD-Rate')\n",
    "out.index.names = ['satd', 'filename', 'encoder_cfg', 'frame']\n",
    "out.to_excel('data_bdr.xlsx')"
   ]
  }
 ],
 "metadata": {
  "interpreter": {
   "hash": "e1d67b35190c898c5b7e02a2e88c487c8bf4962507eec571cc8a46f2eb7e1767"
  },
  "kernelspec": {
   "display_name": "Python 3.9.7 ('base')",
   "language": "python",
   "name": "python3"
  },
  "language_info": {
   "codemirror_mode": {
    "name": "ipython",
    "version": 3
   },
   "file_extension": ".py",
   "mimetype": "text/x-python",
   "name": "python",
   "nbconvert_exporter": "python",
   "pygments_lexer": "ipython3",
   "version": "3.9.7"
  },
  "orig_nbformat": 4
 },
 "nbformat": 4,
 "nbformat_minor": 2
}
