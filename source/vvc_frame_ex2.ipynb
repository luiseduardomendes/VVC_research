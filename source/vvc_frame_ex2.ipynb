{
 "cells": [
  {
   "cell_type": "code",
   "execution_count": 2,
   "metadata": {},
   "outputs": [
    {
     "data": {
      "text/plain": [
       "4x4-1-RdCost4x4-1-8x8-SAD  RaceHorses       intra         0     0.196301\n",
       "                                                          4     0.393733\n",
       "                                                          8    -0.315811\n",
       "                                                          12    0.862592\n",
       "                                                          16    0.635972\n",
       "                                                                  ...   \n",
       "4x4-RdCost8x8-1            BasketballDrive  randomaccess  11   -1.063663\n",
       "                                                          24    0.123178\n",
       "                                                          19    0.318654\n",
       "                                                          28   -0.495506\n",
       "                                                          30    1.496843\n",
       "Length: 7333, dtype: object"
      ]
     },
     "execution_count": 2,
     "metadata": {},
     "output_type": "execute_result"
    }
   ],
   "source": [
    "import vvc_frame_log2 as vf\n",
    "import os\n",
    "import pandas as pd\n",
    "\n",
    "qps = (22, 27, 32, 37)\n",
    "satds = os.listdir('../out/out/')\n",
    "files = os.listdir('../out/out/4x4-1-RdCost8x8-4/')\n",
    "cfgs = ('intra', 'lowdelay', 'randomaccess')\n",
    "cfgs_precise = {\n",
    "    'intra': 'AI',\n",
    "    'lowdelay': 'LB',\n",
    "    'randomaccess': 'RA'\n",
    "}\n",
    "\n",
    "satd = satds[0]\n",
    "file = files[0]\n",
    "cfg = cfgs[0]\n",
    "path_logs = [f'../out/out/{satd}/{file}/{cfg}/exec_log/log_{file}_qp{qp}_{cfg}_{satd}_exec.gplog' for qp in qps]\n",
    "path_refs = [f'../Preciso/{cfgs_precise[cfg]}/{file}_QP{qp}.txt' for qp in qps]\n",
    "df = vf.BD_Rate(\n",
    "    vf.VVC_output(path_logs, qps, 32),\n",
    "    vf.VVC_output(path_refs, qps, 32),\n",
    "    satd,\n",
    "    file,\n",
    "    cfg,\n",
    ")\n",
    "\n",
    "\n",
    "for satd in satds:\n",
    "    for file in files:    \n",
    "        for cfg in cfgs:\n",
    "            path_logs = [f'../out/out/{satd}/{file}/{cfg}/exec_log/log_{file}_qp{qp}_{cfg}_{satd}_exec.gplog' for qp in qps]\n",
    "            path_refs = [f'../Preciso/{cfgs_precise[cfg]}/{file}_QP{qp}.txt' for qp in qps]\n",
    "            \n",
    "            df = df.append(\n",
    "                vf.BD_Rate(\n",
    "                    vf.VVC_output(path_logs, qps, 32),\n",
    "                    vf.VVC_output(path_refs, qps, 32),\n",
    "                    satd,\n",
    "                    file,\n",
    "                    cfg,\n",
    "                )\n",
    "            )\n",
    "df"
   ]
  },
  {
   "cell_type": "code",
   "execution_count": 6,
   "metadata": {},
   "outputs": [
    {
     "name": "stderr",
     "output_type": "stream",
     "text": [
      "/tmp/ipykernel_8398/3070742687.py:2: FutureWarning: In a future version of pandas all arguments of Series.sort_index will be keyword-only\n",
      "  df = df.sort_index(0, level=['satd','video','cfg','frame'])\n"
     ]
    }
   ],
   "source": [
    "df.index.names=['satd','video','cfg','frame']\n",
    "df = df.sort_index(0, level=['satd','video','cfg','frame'])"
   ]
  },
  {
   "cell_type": "code",
   "execution_count": 9,
   "metadata": {},
   "outputs": [],
   "source": [
    "df = df.dropna(how='any')\n",
    "df.to_excel('temp.xlsx')\n"
   ]
  },
  {
   "cell_type": "code",
   "execution_count": null,
   "metadata": {},
   "outputs": [],
   "source": [
    "df.to_csv('data.csv')"
   ]
  }
 ],
 "metadata": {
  "interpreter": {
   "hash": "e1d67b35190c898c5b7e02a2e88c487c8bf4962507eec571cc8a46f2eb7e1767"
  },
  "kernelspec": {
   "display_name": "Python 3.9.7 ('base')",
   "language": "python",
   "name": "python3"
  },
  "language_info": {
   "codemirror_mode": {
    "name": "ipython",
    "version": 3
   },
   "file_extension": ".py",
   "mimetype": "text/x-python",
   "name": "python",
   "nbconvert_exporter": "python",
   "pygments_lexer": "ipython3",
   "version": "3.9.7"
  },
  "orig_nbformat": 4
 },
 "nbformat": 4,
 "nbformat_minor": 2
}
