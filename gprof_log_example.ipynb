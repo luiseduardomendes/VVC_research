{
 "cells": [
  {
   "cell_type": "code",
   "execution_count": 13,
   "metadata": {},
   "outputs": [
    {
     "name": "stdout",
     "output_type": "stream",
     "text": [
      "time                    0.0\n",
      "cum_sec                0.03\n",
      " self_sec               0.0\n",
      "calls                 134.0\n",
      "self_s_call             0.0\n",
      "tot_s_call              0.0\n",
      "name           xCalcHADs4x8\n",
      "class                RdCost\n",
      "Name: 7, dtype: object\n",
      "time                     0.0\n",
      "cum_sec                 0.03\n",
      " self_sec                0.0\n",
      "calls                   30.0\n",
      "self_s_call              0.0\n",
      "tot_s_call               0.0\n",
      "name           xCalcHADs16x8\n",
      "class                 RdCost\n",
      "Name: 12, dtype: object\n",
      "time                    0.0\n",
      "cum_sec                0.03\n",
      " self_sec               0.0\n",
      "calls                  14.0\n",
      "self_s_call             0.0\n",
      "tot_s_call              0.0\n",
      "name           xCalcHADs8x4\n",
      "class                RdCost\n",
      "Name: 15, dtype: object\n",
      "time                     0.0\n",
      "cum_sec                 0.03\n",
      " self_sec                0.0\n",
      "calls                    2.0\n",
      "self_s_call              0.0\n",
      "tot_s_call               0.0\n",
      "name           xCalcHADs8x16\n",
      "class                 RdCost\n",
      "Name: 18, dtype: object\n",
      "time                    0.0\n",
      "cum_sec                 0.0\n",
      " self_sec               0.0\n",
      "calls                 134.0\n",
      "self_s_call                \n",
      "tot_s_call                 \n",
      "name           xCalcHADs4x8\n",
      "class                RdCost\n",
      "Name: 25, dtype: object\n",
      "time                    0.0\n",
      "cum_sec                 0.0\n",
      " self_sec               0.0\n",
      "calls                  14.0\n",
      "self_s_call                \n",
      "tot_s_call                 \n",
      "name           xCalcHADs8x4\n",
      "class                RdCost\n",
      "Name: 32, dtype: object\n",
      "time                     0.0\n",
      "cum_sec                  0.0\n",
      " self_sec                0.0\n",
      "calls                    2.0\n",
      "self_s_call                 \n",
      "tot_s_call                  \n",
      "name           xCalcHADs8x16\n",
      "class                 RdCost\n",
      "Name: 35, dtype: object\n"
     ]
    }
   ],
   "source": [
    "import source.gprof_log_analysis.gprof_log as gl\n",
    "\n",
    "dt = gl.GprofDF('log_RaceHorses_qp22_AI_precise.gplog', 10000, specific_class=('RdCost', ''))\n",
    "\n",
    "dt['name']\n",
    "for i, name in enumerate(dt['name']):\n",
    "    if name.startswith('xCalcHADs'):\n",
    "        print(dt.loc[i, :])"
   ]
  }
 ],
 "metadata": {
  "kernelspec": {
   "display_name": "base",
   "language": "python",
   "name": "python3"
  },
  "language_info": {
   "codemirror_mode": {
    "name": "ipython",
    "version": 3
   },
   "file_extension": ".py",
   "mimetype": "text/x-python",
   "name": "python",
   "nbconvert_exporter": "python",
   "pygments_lexer": "ipython3",
   "version": "3.9.12"
  },
  "orig_nbformat": 4,
  "vscode": {
   "interpreter": {
    "hash": "02c1b4ef390a5efa9184e7809e1c04e02d7699a783b26d72e51ddd5cfed96e3f"
   }
  }
 },
 "nbformat": 4,
 "nbformat_minor": 2
}
