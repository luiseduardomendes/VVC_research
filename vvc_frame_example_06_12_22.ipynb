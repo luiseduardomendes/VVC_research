{
 "cells": [
  {
   "cell_type": "code",
   "execution_count": 1,
   "metadata": {},
   "outputs": [
    {
     "ename": "ModuleNotFoundError",
     "evalue": "No module named 'vvc_log_analysis'",
     "output_type": "error",
     "traceback": [
      "\u001b[0;31m---------------------------------------------------------------------------\u001b[0m",
      "\u001b[0;31mModuleNotFoundError\u001b[0m                       Traceback (most recent call last)",
      "Cell \u001b[0;32mIn[1], line 1\u001b[0m\n\u001b[0;32m----> 1\u001b[0m \u001b[39mfrom\u001b[39;00m \u001b[39msource\u001b[39;00m\u001b[39m.\u001b[39;00m\u001b[39mvvc_log\u001b[39;00m \u001b[39mimport\u001b[39;00m vvc_frame_analysis\n\u001b[1;32m      3\u001b[0m approximations \u001b[39m=\u001b[39m [\u001b[39m'\u001b[39m\u001b[39m4x4-1-RdCost4x4-1-8x8-1\u001b[39m\u001b[39m'\u001b[39m]\n\u001b[1;32m      4\u001b[0m file_names \u001b[39m=\u001b[39m [\u001b[39m'\u001b[39m\u001b[39mBQMall\u001b[39m\u001b[39m'\u001b[39m]\n",
      "File \u001b[0;32m~/Documentos/GitHub/VVC_research/source/vvc_log.py:2\u001b[0m\n\u001b[1;32m      1\u001b[0m \u001b[39mimport\u001b[39;00m \u001b[39mpandas\u001b[39;00m \u001b[39mas\u001b[39;00m \u001b[39mpd\u001b[39;00m\n\u001b[0;32m----> 2\u001b[0m \u001b[39mfrom\u001b[39;00m \u001b[39mvvc_log_analysis\u001b[39;00m\u001b[39m.\u001b[39;00m\u001b[39mvvc_output\u001b[39;00m \u001b[39mimport\u001b[39;00m VVC_output\n\u001b[1;32m      3\u001b[0m \u001b[39mfrom\u001b[39;00m \u001b[39mvvc_log_analysis\u001b[39;00m\u001b[39m.\u001b[39;00m\u001b[39mvvc_bd_rate\u001b[39;00m \u001b[39mimport\u001b[39;00m BD_Rate\n\u001b[1;32m      4\u001b[0m \u001b[39mfrom\u001b[39;00m \u001b[39mcommon\u001b[39;00m\u001b[39m.\u001b[39;00m\u001b[39msv_make_path\u001b[39;00m \u001b[39mimport\u001b[39;00m \u001b[39m*\u001b[39m\n",
      "\u001b[0;31mModuleNotFoundError\u001b[0m: No module named 'vvc_log_analysis'"
     ]
    }
   ],
   "source": [
    "from source.vvc_log import vvc_frame_analysis\n",
    "\n",
    "approximations = ['4x4-1-RdCost4x4-1-8x8-1']\n",
    "file_names = ['BQMall']\n",
    "path = '/home/luismendes/Documentos/GitHub/VVC_research/database/input_analyser/out/'\n",
    "\n",
    "df = vvc_frame_analysis(\n",
    "    approximations,\n",
    "    file_names,\n",
    "    path\n",
    ")\n",
    "\n",
    "print(df)"
   ]
  }
 ],
 "metadata": {
  "kernelspec": {
   "display_name": "Python 3.8.10 64-bit",
   "language": "python",
   "name": "python3"
  },
  "language_info": {
   "codemirror_mode": {
    "name": "ipython",
    "version": 3
   },
   "file_extension": ".py",
   "mimetype": "text/x-python",
   "name": "python",
   "nbconvert_exporter": "python",
   "pygments_lexer": "ipython3",
   "version": "3.8.10"
  },
  "orig_nbformat": 4,
  "vscode": {
   "interpreter": {
    "hash": "916dbcbb3f70747c44a77c7bcd40155683ae19c65e1c03b4aa3499c5328201f1"
   }
  }
 },
 "nbformat": 4,
 "nbformat_minor": 2
}
