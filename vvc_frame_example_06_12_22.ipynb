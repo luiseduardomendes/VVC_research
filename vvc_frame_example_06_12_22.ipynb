{
 "cells": [
  {
   "cell_type": "code",
   "execution_count": 1,
   "metadata": {},
   "outputs": [
    {
     "name": "stdout",
     "output_type": "stream",
     "text": [
      "file /home/luismendes/Documentos/GitHub/VVC_research/database/input_analyser/out/4x4-1-RdCost4x4-1-8x8-1/BQMall/intra/exec_log/log_BQMall_qp22_intra_4x4-1-RdCost4x4-1-8x8-1_exec.gplog not found\n",
      "file /home/luismendes/Documentos/GitHub/VVC_research/database/input_analyser/out/4x4-1-RdCost4x4-1-8x8-1/BQMall/intra/exec_log/log_BQMall_qp22_intra_4x4-1-RdCost4x4-1-8x8-1_exec.gplog not found\n",
      "file /home/luismendes/Documentos/GitHub/VVC_research/database/input_analyser/out/4x4-1-RdCost4x4-1-8x8-1/BQMall/lowdelay/exec_log/log_BQMall_qp22_lowdelay_4x4-1-RdCost4x4-1-8x8-1_exec.gplog not found\n",
      "file /home/luismendes/Documentos/GitHub/VVC_research/database/input_analyser/out/4x4-1-RdCost4x4-1-8x8-1/BQMall/randomaccess/exec_log/log_BQMall_qp22_randomaccess_4x4-1-RdCost4x4-1-8x8-1_exec.gplog not found\n"
     ]
    },
    {
     "name": "stderr",
     "output_type": "stream",
     "text": [
      "/home/luismendes/Documentos/GitHub/VVC_research/source/vvc_frame_log.py:109: FutureWarning: The default dtype for empty Series will be 'object' instead of 'float64' in a future version. Specify a dtype explicitly to silence this warning.\n",
      "  super().__init__(\n"
     ]
    }
   ],
   "source": [
    "import source.vvc_frame_log as vlog\n",
    "\n",
    "approximations = ['4x4-1-RdCost4x4-1-8x8-1']\n",
    "file_names = ['BQMall']\n",
    "path = '/home/luismendes/Documentos/GitHub/VVC_research/database/input_analyser/out/'\n",
    "\n",
    "vlog.frame_analysis(\n",
    "    approximations,\n",
    "    file_names,\n",
    "    path\n",
    ")\n",
    "\n"
   ]
  }
 ],
 "metadata": {
  "kernelspec": {
   "display_name": "Python 3.8.10 64-bit",
   "language": "python",
   "name": "python3"
  },
  "language_info": {
   "codemirror_mode": {
    "name": "ipython",
    "version": 3
   },
   "file_extension": ".py",
   "mimetype": "text/x-python",
   "name": "python",
   "nbconvert_exporter": "python",
   "pygments_lexer": "ipython3",
   "version": "3.8.10"
  },
  "orig_nbformat": 4,
  "vscode": {
   "interpreter": {
    "hash": "916dbcbb3f70747c44a77c7bcd40155683ae19c65e1c03b4aa3499c5328201f1"
   }
  }
 },
 "nbformat": 4,
 "nbformat_minor": 2
}
