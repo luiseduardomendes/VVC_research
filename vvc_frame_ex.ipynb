{
 "cells": [
  {
   "cell_type": "code",
   "execution_count": 5,
   "metadata": {},
   "outputs": [
    {
     "data": {
      "text/plain": [
       "satd                     video            cfg           frame\n",
       "4x4-1-RdCost4x4-1-8x8-1  BasketballDrive  intra         -1       0.155461\n",
       "                                                         0       0.262289\n",
       "                                                         1       0.300499\n",
       "                                                         2       0.229252\n",
       "                                                         3       0.439413\n",
       "                                                                   ...   \n",
       "                                          randomaccess   27      1.446141\n",
       "                                                         28      0.082996\n",
       "                                                         29      1.182407\n",
       "                                                         30      0.284641\n",
       "                                                         31      1.254062\n",
       "Length: 99, dtype: float64"
      ]
     },
     "execution_count": 5,
     "metadata": {},
     "output_type": "execute_result"
    }
   ],
   "source": [
    "import source.vvc_log as vl\n",
    "\n",
    "inp = 'BasketballDrive'\n",
    "satd = \"4x4-1-RdCost4x4-1-8x8-1\"\n",
    "path = 'database\\\\input_analyser\\\\out\\\\'\n",
    "\n",
    "df = vl.vvc_frame_analysis([satd], [inp], path)\n",
    "df"
   ]
  },
  {
   "cell_type": "code",
   "execution_count": null,
   "metadata": {},
   "outputs": [],
   "source": [
    "df = df.dropna(how='any')\n",
    "df.to_excel('temp.xlsx')\n"
   ]
  },
  {
   "cell_type": "code",
   "execution_count": null,
   "metadata": {},
   "outputs": [],
   "source": [
    "df.to_csv('data.csv')"
   ]
  }
 ],
 "metadata": {
  "kernelspec": {
   "display_name": "base",
   "language": "python",
   "name": "python3"
  },
  "language_info": {
   "codemirror_mode": {
    "name": "ipython",
    "version": 3
   },
   "file_extension": ".py",
   "mimetype": "text/x-python",
   "name": "python",
   "nbconvert_exporter": "python",
   "pygments_lexer": "ipython3",
   "version": "3.9.12"
  },
  "orig_nbformat": 4,
  "vscode": {
   "interpreter": {
    "hash": "02c1b4ef390a5efa9184e7809e1c04e02d7699a783b26d72e51ddd5cfed96e3f"
   }
  }
 },
 "nbformat": 4,
 "nbformat_minor": 2
}
