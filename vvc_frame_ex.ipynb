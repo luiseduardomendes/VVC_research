{
 "cells": [
  {
   "cell_type": "code",
   "execution_count": 3,
   "metadata": {},
   "outputs": [
    {
     "name": "stdout",
     "output_type": "stream",
     "text": [
      "version  video       cfg           frame\n",
      "Precise  RaceHorses  intra         -1       0.0\n",
      "                                    0       0.0\n",
      "                                    1       0.0\n",
      "                                    2       0.0\n",
      "                                    3       0.0\n",
      "                                           ... \n",
      "                     randomaccess   27      0.0\n",
      "                                    28      0.0\n",
      "                                    29      0.0\n",
      "                                    30      0.0\n",
      "                                    31      0.0\n",
      "Name: bd-rate, Length: 99, dtype: float64\n"
     ]
    }
   ],
   "source": [
    "import source.vvc_log as vl\n",
    "import os\n",
    "\n",
    "inp = ['RaceHorses']\n",
    "satd = ['Precise']\n",
    "path = 'output09_03_23(1)'\n",
    "\n",
    "df = vl.vvc_frame_analysis(satd, inp, path)\n",
    "print(df)"
   ]
  }
 ],
 "metadata": {
  "kernelspec": {
   "display_name": "Python 3",
   "language": "python",
   "name": "python3"
  },
  "language_info": {
   "codemirror_mode": {
    "name": "ipython",
    "version": 3
   },
   "file_extension": ".py",
   "mimetype": "text/x-python",
   "name": "python",
   "nbconvert_exporter": "python",
   "pygments_lexer": "ipython3",
   "version": "3.10.6 (main, Nov 14 2022, 16:10:14) [GCC 11.3.0]"
  },
  "orig_nbformat": 4,
  "vscode": {
   "interpreter": {
    "hash": "916dbcbb3f70747c44a77c7bcd40155683ae19c65e1c03b4aa3499c5328201f1"
   }
  }
 },
 "nbformat": 4,
 "nbformat_minor": 2
}
