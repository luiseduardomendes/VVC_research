{
 "cells": [
  {
   "cell_type": "code",
   "execution_count": 6,
   "metadata": {},
   "outputs": [
    {
     "name": "stdout",
     "output_type": "stream",
     "text": [
      "Execution running\n",
      "---------------------------------------------- \n",
      "\n",
      "version :         Precise \n",
      "qps :             [37] \n",
      "encoder :         ['RA'] \n",
      "n_frames :        8 \n",
      "background exec : False \n",
      "gprof :           False \n",
      "videos :          [ \n",
      "                       0. RaceHorses.cfg\n",
      "                  ] \n",
      "---------------------------------------------- \n",
      "Total execution 1 x 1 x 1 = 1 simulations\n",
      "---------------------------------------------- \n",
      "\n",
      "\n",
      "Encoding: ........... RaceHorses\n",
      "\n",
      "Video config: ....... database/cfg-files/RaceHorses.cfg\n",
      "Encoder: ............ RA\n",
      "QP: ................. 37\n",
      "VTM version used: ... Precise\n",
      "frames encoded: ..... 8\n",
      "\n",
      "./\"home/devluis/Área de Trabalho/VVCSoftware_VTM/bin/EncoderAppStatic\" -c \"home/devluis/Área de Trabalho/VVCSoftware_VTM/cfg/home/devluis/Área de Trabalho/VVCSoftware_VTM/cfg/encoder_randomaccess_vtm.cfg\" -c \"database/cfg-files/RaceHorses.cfg\" -b \"out1/videos_bin/RaceHorses_qp37_RA_Precise.bin\" -q 37 -f 8  --SIMD=SCALAR >> \"out1/vvc_log/Precise/RA/log_RaceHorses_qp37_RA_Precise.vvclog\" \n",
      "execution done\n",
      "Simulation done\n"
     ]
    },
    {
     "data": {
      "text/plain": [
       "<source.vvc_simulation.Simulation at 0x7fd1e45c3970>"
      ]
     },
     "execution_count": 6,
     "metadata": {},
     "output_type": "execute_result"
    }
   ],
   "source": [
    "from source.vvc_simulation import Simulation\n",
    "\n",
    "sim = Simulation(qps=[37], n_frames=8, encoder=['RA'])\n",
    "sim.set_cfg_dir('database/cfg-files')\n",
    "sim.set_vtm_dir('home/devluis/Área de Trabalho/VVCSoftware_VTM/')\n",
    "sim.set_out_dir('out')\n",
    "\n",
    "sim.remove_video_from_buffer(file_index=range(1,9))\n",
    "\n",
    "sim.run_exec()\n",
    "sim\n"
   ]
  },
  {
   "cell_type": "code",
   "execution_count": 1,
   "metadata": {},
   "outputs": [
    {
     "name": "stdout",
     "output_type": "stream",
     "text": [
      "\n",
      "Encoding: ........... BasketballDrive\n",
      "\n",
      "Video config: ....... database/cfg-files/BasketballDrive.cfg\n",
      "Encoder: ............ RA\n",
      "QP: ................. 37\n",
      "VTM version used: ... precise\n",
      "frames encoded: ..... 8\n",
      "\n",
      "/\"/home/devluis/Área de Trabalho/VVCSoftware_VTM/bin/EncoderAppStatic\" -c \"/home/devluis/Área de Trabalho/VVCSoftware_VTM/cfg/encoder_randomaccess_vtm.cfg\" -c \"database/cfg-files/BasketballDrive.cfg\" -b \"out/videos_bin/BasketballDrive_qp37_RA_precise.bin\" -q 37 -f 8  --SIMD=SCALAR >> \"out/vvc_log/precise/RA/log_BasketballDrive_qp37_RA_precise.vvclog\" \n",
      "execution done\n"
     ]
    },
    {
     "name": "stderr",
     "output_type": "stream",
     "text": [
      "terminate called after throwing an instance of 'Exception'\n",
      "  what():  \n",
      "Failed to open input YUV file: /home/videos/BasketballDrive_1920x1080_50.yuv\n",
      "\n",
      "Aborted (core dumped)\n"
     ]
    }
   ],
   "source": [
    "from source.common.vvc_exec import exec\n",
    "import os\n",
    "\n",
    "cfg_dir = 'database/cfg-files'\n",
    "vtm_dir = '/home/devluis/Área de Trabalho/VVCSoftware_VTM/'\n",
    "out_dir = 'out'\n",
    "\n",
    "exec(\n",
    "    vtm_dir,\n",
    "    'RA',\n",
    "    os.path.join(cfg_dir, 'BasketballDrive.cfg'), \n",
    "    37,\n",
    "    out_dir,\n",
    "    'BasketballDrive',\n",
    "    'precise',\n",
    "    8,\n",
    "    False, \n",
    ")"
   ]
  }
 ],
 "metadata": {
  "kernelspec": {
   "display_name": "Python 3",
   "language": "python",
   "name": "python3"
  },
  "language_info": {
   "codemirror_mode": {
    "name": "ipython",
    "version": 3
   },
   "file_extension": ".py",
   "mimetype": "text/x-python",
   "name": "python",
   "nbconvert_exporter": "python",
   "pygments_lexer": "ipython3",
   "version": "3.10.6 (main, Nov 14 2022, 16:10:14) [GCC 11.3.0]"
  },
  "orig_nbformat": 4,
  "vscode": {
   "interpreter": {
    "hash": "916dbcbb3f70747c44a77c7bcd40155683ae19c65e1c03b4aa3499c5328201f1"
   }
  }
 },
 "nbformat": 4,
 "nbformat_minor": 2
}
