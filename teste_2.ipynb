{
 "cells": [
  {
   "cell_type": "code",
   "execution_count": 26,
   "metadata": {},
   "outputs": [],
   "source": [
    "import pandas as pd\n",
    "import numpy as np\n",
    "import re\n",
    "ptrn3 = re.compile(r'(\\w+)(?:<.+>)?\\(')\n",
    "ptrn2 = re.compile(r'(\\w+)(?:<.+>)?::(\\w+)(?:<.+>)?\\(')\n",
    "ptrn1 = re.compile(r'(\\w+)(?:<.+>)?::(\\w+)(?:<.+>)?::(\\w+)(?:<.+>)?\\(')\n",
    "ptrn0 = re.compile(r'^\\s+(\\d+\\.\\d+)\\s+(\\d+\\.\\d+)\\s+(\\d+\\.\\d+|\\s+)\\s+(\\d+|\\s+)\\s+(\\d+\\.\\d+|\\s+)\\s+(\\d+\\.\\d+|\\s+)\\s+(.+)')\n",
    "\n",
    "file = 'output/gprof_log/Precise/BasketballPass/AI/log_BasketballPass_qp22_AI_Precise.gplog'\n",
    "\n",
    "df = {\n",
    "    'time':[],\n",
    "    'cum_sec':[],\n",
    "    'self_sec':[],\n",
    "    'calls':[],\n",
    "    'self_s_call':[],\n",
    "    'tot_s_call':[],\n",
    "    'namespace':[],\n",
    "    'class':[],\n",
    "    'function':[],\n",
    "    'definition':[]\n",
    "}\n",
    "\n",
    "with open(file) as f:\n",
    "    for line in f:\n",
    "        match = ptrn0.findall(line)\n",
    "        if len(match) == 0:\n",
    "            if line == ' %         the percentage of the total running time of the':\n",
    "                break\n",
    "            continue\n",
    "\n",
    "        df['time'].append(match[0][0])\n",
    "        df['cum_sec'].append(match[0][1])\n",
    "        df['self_sec'].append(match[0][2])\n",
    "        df['calls'].append(match[0][3])\n",
    "        df['self_s_call'].append(match[0][4])\n",
    "        df['tot_s_call'].append(match[0][5])\n",
    "        df['definition'].append(match[0][6])\n",
    "\n",
    "        match = ptrn1.findall(line)\n",
    "        if len(match) > 0:\n",
    "            df['namespace'].append(match[0][0])\n",
    "            df['class'].append(match[0][1])\n",
    "            df['function'].append(match[0][2])\n",
    "            continue\n",
    "        match = ptrn2.findall(line)\n",
    "        if len(match) > 0:\n",
    "            df['namespace'].append(np.nan)\n",
    "            df['class'].append(match[0][0])\n",
    "            df['function'].append(match[0][1])\n",
    "            continue\n",
    "        match = ptrn3.findall(line)\n",
    "        if len(match) > 0:\n",
    "            df['namespace'].append(np.nan)\n",
    "            df['class'].append(np.nan)\n",
    "            df['function'].append(match[0])\n",
    "            continue\n",
    "        df['namespace'].append(np.nan)\n",
    "        df['class'].append(np.nan)\n",
    "        df['function'].append(np.nan)    \n",
    "    f.close()\n"
   ]
  },
  {
   "cell_type": "code",
   "execution_count": 27,
   "metadata": {},
   "outputs": [],
   "source": [
    "df = pd.DataFrame(df)\n",
    "df = df.sort_values(['namespace','class','function','definition'])\n",
    "df.to_excel('data.xlsx')"
   ]
  },
  {
   "cell_type": "code",
   "execution_count": 1,
   "metadata": {},
   "outputs": [
    {
     "ename": "TypeError",
     "evalue": "list indices must be integers or slices, not str",
     "output_type": "error",
     "traceback": [
      "\u001b[1;31m---------------------------------------------------------------------------\u001b[0m",
      "\u001b[1;31mTypeError\u001b[0m                                 Traceback (most recent call last)",
      "Cell \u001b[1;32mIn[1], line 6\u001b[0m\n\u001b[0;32m      3\u001b[0m file \u001b[39m=\u001b[39m \u001b[39m'\u001b[39m\u001b[39moutput/gprof_log/Precise/BasketballPass/AI/log_BasketballPass_qp22_AI_Precise.gplog\u001b[39m\u001b[39m'\u001b[39m\n\u001b[0;32m      5\u001b[0m df \u001b[39m=\u001b[39m GprofDF()\n\u001b[1;32m----> 6\u001b[0m df \u001b[39m=\u001b[39m df\u001b[39m.\u001b[39;49mread_file(file)\n\u001b[0;32m      7\u001b[0m df\n",
      "File \u001b[1;32mc:\\Users\\dudup\\OneDrive\\Documentos\\GitHub\\VVC_research\\source\\gprof_log_analysis\\gprof_log.py:22\u001b[0m, in \u001b[0;36mGprofDF.read_file\u001b[1;34m(self, file_name)\u001b[0m\n\u001b[0;32m     19\u001b[0m         r \u001b[39m=\u001b[39m __gprof_line_decoder__(line)\n\u001b[0;32m     21\u001b[0m         \u001b[39mfor\u001b[39;00m key \u001b[39min\u001b[39;00m df\u001b[39m.\u001b[39mkeys():\n\u001b[1;32m---> 22\u001b[0m             df[key]\u001b[39m.\u001b[39mappend(r[key])\n\u001b[0;32m     23\u001b[0m     f\u001b[39m.\u001b[39mclose()\n\u001b[0;32m     25\u001b[0m \u001b[39mself\u001b[39m\u001b[39m.\u001b[39m\u001b[39m__init__\u001b[39m(df)\n",
      "\u001b[1;31mTypeError\u001b[0m: list indices must be integers or slices, not str"
     ]
    }
   ],
   "source": [
    "from source.gprof_log_analysis.gprof_log import GprofDF\n",
    "\n",
    "file = 'output/gprof_log/Precise/BasketballPass/AI/log_BasketballPass_qp22_AI_Precise.gplog'\n",
    "\n",
    "df = GprofDF()\n",
    "df = df.read_file(file)\n",
    "df"
   ]
  }
 ],
 "metadata": {
  "kernelspec": {
   "display_name": "base",
   "language": "python",
   "name": "python3"
  },
  "language_info": {
   "codemirror_mode": {
    "name": "ipython",
    "version": 3
   },
   "file_extension": ".py",
   "mimetype": "text/x-python",
   "name": "python",
   "nbconvert_exporter": "python",
   "pygments_lexer": "ipython3",
   "version": "3.10.9"
  },
  "orig_nbformat": 4
 },
 "nbformat": 4,
 "nbformat_minor": 2
}
