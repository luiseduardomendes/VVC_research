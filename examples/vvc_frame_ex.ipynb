{
 "cells": [
  {
   "cell_type": "code",
   "execution_count": 7,
   "metadata": {},
   "outputs": [
    {
     "data": {
      "text/plain": [
       "version  video           cfg  frame\n",
       "Precise  RaceHorses      AI   -1       0.0\n",
       "                         RA   -1       0.0\n",
       "         BasketballPass  AI   -1       0.0\n",
       "                         RA   -1       0.0\n",
       "Name: bd-rate, dtype: float64"
      ]
     },
     "execution_count": 7,
     "metadata": {},
     "output_type": "execute_result"
    }
   ],
   "source": [
    "from vvc_performance import vvc_frame_analysis\n",
    "\n",
    "inp = ['RaceHorses', 'BasketballPass']\n",
    "cfg = ['AI', 'RA']\n",
    "qps = [22, 27, 32, 37]\n",
    "satd = ['Precise']\n",
    "path = 'output'\n",
    "\n",
    "df = vvc_frame_analysis(satd, inp, path, cfg, qps, False)\n",
    "df"
   ]
  }
 ],
 "metadata": {
  "kernelspec": {
   "display_name": "Python 3",
   "language": "python",
   "name": "python3"
  },
  "language_info": {
   "codemirror_mode": {
    "name": "ipython",
    "version": 3
   },
   "file_extension": ".py",
   "mimetype": "text/x-python",
   "name": "python",
   "nbconvert_exporter": "python",
   "pygments_lexer": "ipython3",
   "version": "3.8.10"
  },
  "orig_nbformat": 4,
  "vscode": {
   "interpreter": {
    "hash": "916dbcbb3f70747c44a77c7bcd40155683ae19c65e1c03b4aa3499c5328201f1"
   }
  }
 },
 "nbformat": 4,
 "nbformat_minor": 2
}
